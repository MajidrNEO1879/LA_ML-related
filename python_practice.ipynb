{
  "nbformat": 4,
  "nbformat_minor": 0,
  "metadata": {
    "colab": {
      "provenance": [],
      "authorship_tag": "ABX9TyON6UldkPWAKYbRKcW6DQTJ"
    },
    "kernelspec": {
      "name": "python3",
      "display_name": "Python 3"
    },
    "language_info": {
      "name": "python"
    }
  },
  "cells": [
    {
      "cell_type": "code",
      "execution_count": null,
      "metadata": {
        "id": "97hRZQkQTy5C"
      },
      "outputs": [],
      "source": [
        "class Queue:\n",
        "    def __init__(self, max_size):\n",
        "        self.max_size = max_size\n",
        "        self.Q = [0] * max_size\n",
        "        self.num = 0\n",
        "        self.first = 0\n",
        "\n",
        "    def enqueue(self, item):\n",
        "        if self.num >= self.max_size:\n",
        "            raise Exception(\"Queue overflow\")\n",
        "        self.Q[(self.num + self.first) % self.max_size] = item\n",
        "        self.num += 1\n",
        "\n",
        "    def dequeue(self):\n",
        "        if self.num == 0:\n",
        "            raise Exception(\"Queue empty\")\n",
        "        item = self.Q[self.first]\n",
        "        self.first = (self.first + 1) % self.max_size\n",
        "        self.num -= 1\n",
        "        return item\n",
        "\n",
        "    def front(self):\n",
        "        if self.num == 0:\n",
        "            raise Exception(\"Queue empty\")\n",
        "        return self.Q[self.first]\n",
        "\n",
        "    def is_empty(self):\n",
        "        return self.num == 0\n",
        "\n",
        "    def size(self):\n",
        "        return self.num\n",
        "\n",
        "    def is_full(self):\n",
        "        return self.num >= self.max_size"
      ]
    },
    {
      "cell_type": "code",
      "source": [
        "q = Queue(10)\n",
        "q.enqueue(\"ra'na\") # [\"ra'na\"]\n",
        "q.enqueue(\"vez\") # [\"ra'na\", \"vez\"]\n",
        "q.enqueue(\"Arya\") # [\"ra'na\", \"vez\", \"Arya\"]\n",
        "print(\"Queue size is:\", q.size())\n",
        "print(q.dequeue(), \"left the queue.\") # [\"vez\", \"Arya\"]\n",
        "print(\"Front of queue is:\", q.front())\n",
        "q.enqueue(\"milda\") # [\"vez\", \"Arya\", \"milda\"]\n",
        "q.dequeue() # [\"Arya\",\"milda\"]\n",
        "q.dequeue() # [\"milda\"]\n",
        "q.dequeue() # []\n",
        "print(\"It was a queue!\")\n"
      ],
      "metadata": {
        "colab": {
          "base_uri": "https://localhost:8080/"
        },
        "id": "5raxdvxiU_gb",
        "outputId": "59978af2-a0bb-492b-817a-bc280cbcdec3"
      },
      "execution_count": null,
      "outputs": [
        {
          "output_type": "stream",
          "name": "stdout",
          "text": [
            "Queue size is: 3\n",
            "ra'na left the queue.\n",
            "Front of queue is: vez\n",
            "It was a queue!\n"
          ]
        }
      ]
    },
    {
      "cell_type": "code",
      "source": [
        "#stack\n",
        "\n",
        "\n",
        "class Stack:\n",
        "    def __init__(self, max_size):\n",
        "        self.max_size = max_size  # Size of stack\n",
        "        self.S = [0] * max_size  # Stack array\n",
        "        self.num = 0  # Number of elements in Stack\n",
        "\n",
        "    def push(self, item):\n",
        "        if self.num >= self.max_size:\n",
        "            raise Exception(\"Stack overflow\")\n",
        "        self.S[self.num] = item\n",
        "        self.num += 1\n",
        "\n",
        "    def pop(self):\n",
        "        if self.num == 0:\n",
        "            raise Exception(\"Stack empty\")\n",
        "        self.num -= 1\n",
        "        return self.S[self.num]\n",
        "\n",
        "    def top(self):\n",
        "        if self.num == 0:\n",
        "            raise Exception(\"Stack empty\")\n",
        "        return self.S[self.num-1]\n",
        "\n",
        "\n",
        "    def size(self):\n",
        "        return self.num\n",
        "\n",
        "    def is_full(self):\n",
        "        return self.num >= self.max_size\n",
        "\n",
        "    def is_empty(self):\n",
        "        return self.num == 0\n",
        "\n",
        "\n"
      ],
      "metadata": {
        "id": "IxKbWrBHVRN0"
      },
      "execution_count": null,
      "outputs": []
    },
    {
      "cell_type": "code",
      "source": [
        "import pandas as pd\n",
        "import matplotlib.pyplot as plt\n",
        "import numpy as np\n",
        "data = pd.read_csv('./sample_data/data_points_laptop.txt', names = ['charging time', 'lasting time'])\n",
        "x = data['charging time']\n",
        "y = data['lasting time']\n",
        "plt.scatter(x,y, color='blue', label='data points')\n",
        "plt.xlabel('charging time')\n",
        "plt.ylabel('lasting time')\n",
        "plt.title('data points')\n",
        "plt.show()"
      ],
      "metadata": {
        "colab": {
          "base_uri": "https://localhost:8080/",
          "height": 472
        },
        "id": "JYoO_9E6zLxF",
        "outputId": "0e2b8154-563e-48b9-d7bd-5b8d9a3bf346"
      },
      "execution_count": null,
      "outputs": [
        {
          "output_type": "display_data",
          "data": {
            "text/plain": [
              "<Figure size 640x480 with 1 Axes>"
            ],
            "image/png": "[encoded data removed]"
          },
          "metadata": {}
        }
      ]
    },
    {
      "cell_type": "markdown",
      "source": [
        "Compute the slope of the line of regression obtained while treating Physics as the independent variable. Compute the answer correct to three decimal places.\n",
        "\n",
        "Output Format\n",
        "\n",
        "In the text box, enter the floating point/decimal value required. Do not leave any leading or trailing spaces. Your answer may look like: 0.255\n",
        "\n",
        "This is NOT the actual answer - just the format in which you should provide your answer.\n",
        "Physics Scores  15  12  8   8   7   7   7   6   5   3\n",
        "History Scores  10  25  17  11  13  17  20  13  9   15"
      ],
      "metadata": {
        "id": "zwBAty6L5Sz7"
      }
    },
    {
      "cell_type": "code",
      "source": [
        "import numpy as np\n",
        "\n",
        "physics_scores = np.array([15, 12, 8, 8, 7, 7, 7, 6, 5, 3])\n",
        "history_scores = np.array([10, 25, 17, 11, 13, 17, 20, 13, 9, 15])\n",
        "\n",
        "# Compute means\n",
        "mean_x = np.mean(physics_scores)\n",
        "mean_y = np.mean(history_scores)\n",
        "\n",
        "# Compute slope (b)\n",
        "numerator = np.sum((physics_scores - mean_x) * (history_scores - mean_y))\n",
        "denominator = np.sum((physics_scores - mean_x) ** 2)\n",
        "slope = numerator / denominator\n",
        "\n",
        "# Print the answer rounded to three decimal places\n",
        "print(f\"{slope:.3f}\")"
      ],
      "metadata": {
        "id": "YW1HE3Em5Tlj",
        "colab": {
          "base_uri": "https://localhost:8080/"
        },
        "outputId": "a85c3a28-c86f-4382-9561-c532e2fca793"
      },
      "execution_count": 38,
      "outputs": [
        {
          "output_type": "stream",
          "name": "stdout",
          "text": [
            "0.208\n"
          ]
        }
      ]
    }
  ]
}