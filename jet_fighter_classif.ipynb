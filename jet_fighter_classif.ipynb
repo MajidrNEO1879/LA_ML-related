{
  "nbformat": 4,
  "nbformat_minor": 0,
  "metadata": {
    "colab": {
      "provenance": [],
      "authorship_tag": "ABX9TyNTW1Qb5z7oJtCnXFhdTYru",
      "include_colab_link": true
    },
    "kernelspec": {
      "name": "python3",
      "display_name": "Python 3"
    },
    "language_info": {
      "name": "python"
    },
    "widgets": {
      "application/vnd.jupyter.widget-state+json": {
        "ccc8481f83f94ee3894d744b8d3c6861": {
          "model_module": "@jupyter-widgets/controls",
          "model_name": "FileUploadModel",
          "model_module_version": "1.5.0",
          "state": {
            "_counter": 3,
            "_dom_classes": [],
            "_model_module": "@jupyter-widgets/controls",
            "_model_module_version": "1.5.0",
            "_model_name": "FileUploadModel",
            "_view_count": null,
            "_view_module": "@jupyter-widgets/controls",
            "_view_module_version": "1.5.0",
            "_view_name": "FileUploadView",
            "accept": "",
            "button_style": "",
            "data": [
              null
            ],
            "description": "Upload",
            "description_tooltip": null,
            "disabled": false,
            "error": "",
            "icon": "upload",
            "layout": "IPY_MODEL_95eae291c5e74ffaad8f86951d499465",
            "metadata": [
              {
                "name": "f-35.jpg",
                "type": "image/jpeg",
                "size": 422182,
                "lastModified": 1739538294331
              }
            ],
            "multiple": false,
            "style": "IPY_MODEL_e9ff7c61c24e4ab39e3c33be9a3bc4f0"
          }
        },
        "95eae291c5e74ffaad8f86951d499465": {
          "model_module": "@jupyter-widgets/base",
          "model_name": "LayoutModel",
          "model_module_version": "1.2.0",
          "state": {
            "_model_module": "@jupyter-widgets/base",
            "_model_module_version": "1.2.0",
            "_model_name": "LayoutModel",
            "_view_count": null,
            "_view_module": "@jupyter-widgets/base",
            "_view_module_version": "1.2.0",
            "_view_name": "LayoutView",
            "align_content": null,
            "align_items": null,
            "align_self": null,
            "border": null,
            "bottom": null,
            "display": null,
            "flex": null,
            "flex_flow": null,
            "grid_area": null,
            "grid_auto_columns": null,
            "grid_auto_flow": null,
            "grid_auto_rows": null,
            "grid_column": null,
            "grid_gap": null,
            "grid_row": null,
            "grid_template_areas": null,
            "grid_template_columns": null,
            "grid_template_rows": null,
            "height": null,
            "justify_content": null,
            "justify_items": null,
            "left": null,
            "margin": null,
            "max_height": null,
            "max_width": null,
            "min_height": null,
            "min_width": null,
            "object_fit": null,
            "object_position": null,
            "order": null,
            "overflow": null,
            "overflow_x": null,
            "overflow_y": null,
            "padding": null,
            "right": null,
            "top": null,
            "visibility": null,
            "width": null
          }
        },
        "e9ff7c61c24e4ab39e3c33be9a3bc4f0": {
          "model_module": "@jupyter-widgets/controls",
          "model_name": "ButtonStyleModel",
          "model_module_version": "1.5.0",
          "state": {
            "_model_module": "@jupyter-widgets/controls",
            "_model_module_version": "1.5.0",
            "_model_name": "ButtonStyleModel",
            "_view_count": null,
            "_view_module": "@jupyter-widgets/base",
            "_view_module_version": "1.2.0",
            "_view_name": "StyleView",
            "button_color": null,
            "font_weight": ""
          }
        }
      }
    }
  },
  "cells": [
    {
      "cell_type": "markdown",
      "metadata": {
        "id": "view-in-github",
        "colab_type": "text"
      },
      "source": [
        "<a href=\"https://colab.research.google.com/github/MajidrNEO1879/LA_ML-related/blob/main/jet_fighter_classif.ipynb\" target=\"_parent\"><img src=\"https://colab.research.google.com/assets/colab-badge.svg\" alt=\"Open In Colab\"/></a>"
      ]
    },
    {
      "cell_type": "code",
      "execution_count": 35,
      "metadata": {
        "id": "4V-A7gFDQt10"
      },
      "outputs": [],
      "source": [
        "#finding the related images of f-4 , f-15 and f22\n",
        "#100 images of each fighter\n",
        "import os\n",
        "from pathlib import Path\n",
        "from fastai.vision.all import *"
      ]
    },
    {
      "cell_type": "code",
      "source": [
        "#scrapping\n",
        "#!pip install duckduckgo-search pillow requests\n",
        "#!pip install -Uqq fastbook\n",
        "import requests\n",
        "from duckduckgo_search import DDGS\n",
        "from PIL import Image\n",
        "from io import BytesIO"
      ],
      "metadata": {
        "id": "BweMEX5bR-iK"
      },
      "execution_count": 33,
      "outputs": []
    },
    {
      "cell_type": "code",
      "source": [
        "queries = ['F-4 fighter', 'F-15 fighter', 'F-22 fighter']\n",
        "dest_directories = {\n",
        "    'F-4': '../content/sample_data/jet_fighters/F-4',\n",
        "    'F-15': '../content/sample_data/jet_fighters/F-15',\n",
        "    'F-22': '../content/sample_data/jet_fighters/F-22'\n",
        "}\n",
        "for directory in dest_directories.values():\n",
        "    os.makedirs(directory, exist_ok=True)\n",
        "\n",
        "# fetch and download images\n",
        "for query in queries:\n",
        "    key = query.split()[0]\n",
        "    output_dir = dest_directories.get(key)\n",
        "\n",
        "    if not output_dir:\n",
        "        print(f\"Directory not found for query: {query}\")\n",
        "        continue\n",
        "\n",
        "    print(f\"Downloading images for: {query}\")\n",
        "\n",
        "    # Get first 100 image URLs\n",
        "    image_urls = [result[\"image\"] for result in DDGS().images(query, max_results=100)]\n",
        "\n",
        "    for i, url in enumerate(image_urls):\n",
        "        try:\n",
        "            response = requests.get(url, timeout=5)\n",
        "            if response.status_code == 200:\n",
        "                img = Image.open(BytesIO(response.content))\n",
        "                img_format = img.format.lower()\n",
        "                img_path = os.path.join(output_dir, f\"{key}_{i}.{img_format}\")\n",
        "                img.save(img_path)\n",
        "                print(f\"Downloaded {img_path}\")\n",
        "        except Exception as e:\n",
        "            print(f\"Failed to download {url}: {e}\")"
      ],
      "metadata": {
        "colab": {
          "base_uri": "https://localhost:8080/"
        },
        "collapsed": true,
        "id": "VeuwcYhWWb1n",
        "outputId": "ed87d8fc-213a-44b5-d25a-9a6d1ec47e5e"
      },
      "execution_count": 34,
      "outputs": [
        {
          "output_type": "stream",
          "name": "stdout",
          "text": [
            "Downloading images for: F-4 fighter\n",
            "Downloaded ../content/sample_data/jet_fighters/F-4/F-4_0.jpeg\n",
            "Downloaded ../content/sample_data/jet_fighters/F-4/F-4_1.jpeg\n",
            "Downloaded ../content/sample_data/jet_fighters/F-4/F-4_2.jpeg\n",
            "Downloaded ../content/sample_data/jet_fighters/F-4/F-4_3.jpeg\n",
            "Downloaded ../content/sample_data/jet_fighters/F-4/F-4_4.jpeg\n",
            "Downloaded ../content/sample_data/jet_fighters/F-4/F-4_5.jpeg\n",
            "Downloaded ../content/sample_data/jet_fighters/F-4/F-4_6.jpeg\n",
            "Downloaded ../content/sample_data/jet_fighters/F-4/F-4_7.jpeg\n",
            "Downloaded ../content/sample_data/jet_fighters/F-4/F-4_8.jpeg\n",
            "Downloaded ../content/sample_data/jet_fighters/F-4/F-4_9.jpeg\n",
            "Downloaded ../content/sample_data/jet_fighters/F-4/F-4_11.jpeg\n",
            "Downloaded ../content/sample_data/jet_fighters/F-4/F-4_12.jpeg\n",
            "Downloaded ../content/sample_data/jet_fighters/F-4/F-4_14.jpeg\n",
            "Downloaded ../content/sample_data/jet_fighters/F-4/F-4_15.jpeg\n",
            "Downloaded ../content/sample_data/jet_fighters/F-4/F-4_16.jpeg\n",
            "Downloaded ../content/sample_data/jet_fighters/F-4/F-4_17.jpeg\n",
            "Downloaded ../content/sample_data/jet_fighters/F-4/F-4_18.jpeg\n",
            "Downloaded ../content/sample_data/jet_fighters/F-4/F-4_19.jpeg\n",
            "Downloaded ../content/sample_data/jet_fighters/F-4/F-4_20.jpeg\n",
            "Downloaded ../content/sample_data/jet_fighters/F-4/F-4_21.jpeg\n",
            "Downloaded ../content/sample_data/jet_fighters/F-4/F-4_22.jpeg\n",
            "Downloaded ../content/sample_data/jet_fighters/F-4/F-4_23.jpeg\n",
            "Downloaded ../content/sample_data/jet_fighters/F-4/F-4_24.jpeg\n",
            "Downloaded ../content/sample_data/jet_fighters/F-4/F-4_25.jpeg\n",
            "Downloaded ../content/sample_data/jet_fighters/F-4/F-4_26.jpeg\n",
            "Downloaded ../content/sample_data/jet_fighters/F-4/F-4_27.jpeg\n",
            "Downloaded ../content/sample_data/jet_fighters/F-4/F-4_28.jpeg\n",
            "Downloaded ../content/sample_data/jet_fighters/F-4/F-4_29.jpeg\n",
            "Downloaded ../content/sample_data/jet_fighters/F-4/F-4_30.jpeg\n",
            "Downloaded ../content/sample_data/jet_fighters/F-4/F-4_31.jpeg\n",
            "Downloaded ../content/sample_data/jet_fighters/F-4/F-4_32.jpeg\n",
            "Downloaded ../content/sample_data/jet_fighters/F-4/F-4_34.jpeg\n",
            "Downloaded ../content/sample_data/jet_fighters/F-4/F-4_35.jpeg\n",
            "Downloaded ../content/sample_data/jet_fighters/F-4/F-4_36.jpeg\n",
            "Downloaded ../content/sample_data/jet_fighters/F-4/F-4_37.jpeg\n",
            "Downloaded ../content/sample_data/jet_fighters/F-4/F-4_39.jpeg\n",
            "Downloaded ../content/sample_data/jet_fighters/F-4/F-4_40.jpeg\n",
            "Downloaded ../content/sample_data/jet_fighters/F-4/F-4_41.jpeg\n",
            "Downloaded ../content/sample_data/jet_fighters/F-4/F-4_42.jpeg\n",
            "Failed to download http://www.wallpaperup.com/uploads/wallpapers/2014/02/11/251164/b1bf119106d352dde4d47a12c2ee79ea.jpg: HTTPConnectionPool(host='www.wallpaperup.com', port=80): Max retries exceeded with url: /uploads/wallpapers/2014/02/11/251164/b1bf119106d352dde4d47a12c2ee79ea.jpg (Caused by NameResolutionError(\"<urllib3.connection.HTTPConnection object at 0x7d965fd8cdd0>: Failed to resolve 'www.wallpaperup.com' ([Errno -2] Name or service not known)\"))\n",
            "Downloaded ../content/sample_data/jet_fighters/F-4/F-4_44.jpeg\n",
            "Downloaded ../content/sample_data/jet_fighters/F-4/F-4_45.jpeg\n",
            "Downloaded ../content/sample_data/jet_fighters/F-4/F-4_46.jpeg\n",
            "Downloaded ../content/sample_data/jet_fighters/F-4/F-4_47.jpeg\n",
            "Downloaded ../content/sample_data/jet_fighters/F-4/F-4_49.jpeg\n",
            "Downloaded ../content/sample_data/jet_fighters/F-4/F-4_50.jpeg\n",
            "Downloaded ../content/sample_data/jet_fighters/F-4/F-4_51.jpeg\n",
            "Downloaded ../content/sample_data/jet_fighters/F-4/F-4_52.jpeg\n",
            "Downloaded ../content/sample_data/jet_fighters/F-4/F-4_53.jpeg\n",
            "Downloaded ../content/sample_data/jet_fighters/F-4/F-4_54.jpeg\n",
            "Downloaded ../content/sample_data/jet_fighters/F-4/F-4_55.jpeg\n",
            "Downloaded ../content/sample_data/jet_fighters/F-4/F-4_56.jpeg\n",
            "Downloaded ../content/sample_data/jet_fighters/F-4/F-4_57.jpeg\n",
            "Downloaded ../content/sample_data/jet_fighters/F-4/F-4_58.jpeg\n",
            "Downloaded ../content/sample_data/jet_fighters/F-4/F-4_59.jpeg\n",
            "Downloaded ../content/sample_data/jet_fighters/F-4/F-4_60.jpeg\n",
            "Downloaded ../content/sample_data/jet_fighters/F-4/F-4_61.jpeg\n",
            "Downloaded ../content/sample_data/jet_fighters/F-4/F-4_62.jpeg\n",
            "Downloaded ../content/sample_data/jet_fighters/F-4/F-4_63.jpeg\n",
            "Downloaded ../content/sample_data/jet_fighters/F-4/F-4_65.jpeg\n",
            "Downloaded ../content/sample_data/jet_fighters/F-4/F-4_66.jpeg\n",
            "Downloaded ../content/sample_data/jet_fighters/F-4/F-4_67.jpeg\n",
            "Downloaded ../content/sample_data/jet_fighters/F-4/F-4_68.jpeg\n",
            "Downloaded ../content/sample_data/jet_fighters/F-4/F-4_69.jpeg\n",
            "Downloaded ../content/sample_data/jet_fighters/F-4/F-4_70.jpeg\n",
            "Downloaded ../content/sample_data/jet_fighters/F-4/F-4_71.jpeg\n",
            "Downloaded ../content/sample_data/jet_fighters/F-4/F-4_72.jpeg\n",
            "Downloaded ../content/sample_data/jet_fighters/F-4/F-4_73.jpeg\n",
            "Downloaded ../content/sample_data/jet_fighters/F-4/F-4_74.jpeg\n",
            "Downloaded ../content/sample_data/jet_fighters/F-4/F-4_75.jpeg\n",
            "Downloaded ../content/sample_data/jet_fighters/F-4/F-4_76.jpeg\n",
            "Downloaded ../content/sample_data/jet_fighters/F-4/F-4_77.jpeg\n",
            "Downloaded ../content/sample_data/jet_fighters/F-4/F-4_78.jpeg\n",
            "Downloaded ../content/sample_data/jet_fighters/F-4/F-4_79.jpeg\n",
            "Downloaded ../content/sample_data/jet_fighters/F-4/F-4_80.jpeg\n",
            "Downloaded ../content/sample_data/jet_fighters/F-4/F-4_81.jpeg\n",
            "Downloaded ../content/sample_data/jet_fighters/F-4/F-4_82.jpeg\n",
            "Downloaded ../content/sample_data/jet_fighters/F-4/F-4_83.jpeg\n",
            "Downloaded ../content/sample_data/jet_fighters/F-4/F-4_84.jpeg\n",
            "Downloaded ../content/sample_data/jet_fighters/F-4/F-4_85.jpeg\n",
            "Downloaded ../content/sample_data/jet_fighters/F-4/F-4_86.jpeg\n",
            "Downloaded ../content/sample_data/jet_fighters/F-4/F-4_87.jpeg\n",
            "Downloaded ../content/sample_data/jet_fighters/F-4/F-4_88.jpeg\n",
            "Downloaded ../content/sample_data/jet_fighters/F-4/F-4_90.jpeg\n",
            "Downloaded ../content/sample_data/jet_fighters/F-4/F-4_91.jpeg\n",
            "Downloaded ../content/sample_data/jet_fighters/F-4/F-4_92.jpeg\n",
            "Downloaded ../content/sample_data/jet_fighters/F-4/F-4_93.jpeg\n",
            "Downloaded ../content/sample_data/jet_fighters/F-4/F-4_94.jpeg\n",
            "Downloaded ../content/sample_data/jet_fighters/F-4/F-4_96.jpeg\n",
            "Downloaded ../content/sample_data/jet_fighters/F-4/F-4_97.jpeg\n",
            "Downloaded ../content/sample_data/jet_fighters/F-4/F-4_98.jpeg\n",
            "Downloaded ../content/sample_data/jet_fighters/F-4/F-4_99.jpeg\n",
            "Downloading images for: F-15 fighter\n",
            "Downloaded ../content/sample_data/jet_fighters/F-15/F-15_0.jpeg\n",
            "Downloaded ../content/sample_data/jet_fighters/F-15/F-15_2.jpeg\n",
            "Downloaded ../content/sample_data/jet_fighters/F-15/F-15_5.jpeg\n",
            "Downloaded ../content/sample_data/jet_fighters/F-15/F-15_7.jpeg\n",
            "Downloaded ../content/sample_data/jet_fighters/F-15/F-15_8.jpeg\n",
            "Downloaded ../content/sample_data/jet_fighters/F-15/F-15_9.jpeg\n",
            "Downloaded ../content/sample_data/jet_fighters/F-15/F-15_10.jpeg\n",
            "Downloaded ../content/sample_data/jet_fighters/F-15/F-15_11.jpeg\n",
            "Downloaded ../content/sample_data/jet_fighters/F-15/F-15_12.jpeg\n",
            "Downloaded ../content/sample_data/jet_fighters/F-15/F-15_13.jpeg\n",
            "Downloaded ../content/sample_data/jet_fighters/F-15/F-15_14.jpeg\n",
            "Downloaded ../content/sample_data/jet_fighters/F-15/F-15_15.jpeg\n",
            "Downloaded ../content/sample_data/jet_fighters/F-15/F-15_17.jpeg\n",
            "Downloaded ../content/sample_data/jet_fighters/F-15/F-15_18.jpeg\n",
            "Downloaded ../content/sample_data/jet_fighters/F-15/F-15_19.jpeg\n",
            "Downloaded ../content/sample_data/jet_fighters/F-15/F-15_20.jpeg\n",
            "Downloaded ../content/sample_data/jet_fighters/F-15/F-15_21.jpeg\n",
            "Downloaded ../content/sample_data/jet_fighters/F-15/F-15_22.jpeg\n",
            "Downloaded ../content/sample_data/jet_fighters/F-15/F-15_23.jpeg\n",
            "Downloaded ../content/sample_data/jet_fighters/F-15/F-15_24.jpeg\n",
            "Downloaded ../content/sample_data/jet_fighters/F-15/F-15_25.jpeg\n",
            "Downloaded ../content/sample_data/jet_fighters/F-15/F-15_27.jpeg\n",
            "Downloaded ../content/sample_data/jet_fighters/F-15/F-15_28.jpeg\n",
            "Downloaded ../content/sample_data/jet_fighters/F-15/F-15_29.jpeg\n",
            "Downloaded ../content/sample_data/jet_fighters/F-15/F-15_30.jpeg\n",
            "Downloaded ../content/sample_data/jet_fighters/F-15/F-15_32.jpeg\n",
            "Downloaded ../content/sample_data/jet_fighters/F-15/F-15_34.jpeg\n",
            "Downloaded ../content/sample_data/jet_fighters/F-15/F-15_35.jpeg\n",
            "Downloaded ../content/sample_data/jet_fighters/F-15/F-15_36.jpeg\n",
            "Downloaded ../content/sample_data/jet_fighters/F-15/F-15_37.jpeg\n",
            "Downloaded ../content/sample_data/jet_fighters/F-15/F-15_38.jpeg\n",
            "Downloaded ../content/sample_data/jet_fighters/F-15/F-15_39.jpeg\n",
            "Downloaded ../content/sample_data/jet_fighters/F-15/F-15_40.jpeg\n",
            "Downloaded ../content/sample_data/jet_fighters/F-15/F-15_41.jpeg\n",
            "Downloaded ../content/sample_data/jet_fighters/F-15/F-15_42.jpeg\n",
            "Downloaded ../content/sample_data/jet_fighters/F-15/F-15_43.jpeg\n",
            "Downloaded ../content/sample_data/jet_fighters/F-15/F-15_44.jpeg\n",
            "Downloaded ../content/sample_data/jet_fighters/F-15/F-15_45.png\n",
            "Downloaded ../content/sample_data/jet_fighters/F-15/F-15_47.jpeg\n",
            "Downloaded ../content/sample_data/jet_fighters/F-15/F-15_49.jpeg\n",
            "Downloaded ../content/sample_data/jet_fighters/F-15/F-15_50.jpeg\n",
            "Downloaded ../content/sample_data/jet_fighters/F-15/F-15_51.jpeg\n",
            "Downloaded ../content/sample_data/jet_fighters/F-15/F-15_52.jpeg\n",
            "Downloaded ../content/sample_data/jet_fighters/F-15/F-15_53.jpeg\n",
            "Downloaded ../content/sample_data/jet_fighters/F-15/F-15_54.jpeg\n",
            "Downloaded ../content/sample_data/jet_fighters/F-15/F-15_55.jpeg\n",
            "Downloaded ../content/sample_data/jet_fighters/F-15/F-15_56.jpeg\n",
            "Downloaded ../content/sample_data/jet_fighters/F-15/F-15_57.jpeg\n",
            "Downloaded ../content/sample_data/jet_fighters/F-15/F-15_58.jpeg\n",
            "Downloaded ../content/sample_data/jet_fighters/F-15/F-15_59.jpeg\n",
            "Downloaded ../content/sample_data/jet_fighters/F-15/F-15_60.jpeg\n",
            "Downloaded ../content/sample_data/jet_fighters/F-15/F-15_61.jpeg\n",
            "Downloaded ../content/sample_data/jet_fighters/F-15/F-15_62.jpeg\n",
            "Downloaded ../content/sample_data/jet_fighters/F-15/F-15_64.jpeg\n",
            "Downloaded ../content/sample_data/jet_fighters/F-15/F-15_65.jpeg\n",
            "Downloaded ../content/sample_data/jet_fighters/F-15/F-15_66.jpeg\n",
            "Downloaded ../content/sample_data/jet_fighters/F-15/F-15_68.jpeg\n",
            "Downloaded ../content/sample_data/jet_fighters/F-15/F-15_69.jpeg\n",
            "Downloaded ../content/sample_data/jet_fighters/F-15/F-15_70.jpeg\n",
            "Downloaded ../content/sample_data/jet_fighters/F-15/F-15_71.jpeg\n",
            "Downloaded ../content/sample_data/jet_fighters/F-15/F-15_72.jpeg\n",
            "Downloaded ../content/sample_data/jet_fighters/F-15/F-15_73.jpeg\n",
            "Downloaded ../content/sample_data/jet_fighters/F-15/F-15_74.webp\n",
            "Downloaded ../content/sample_data/jet_fighters/F-15/F-15_75.jpeg\n",
            "Downloaded ../content/sample_data/jet_fighters/F-15/F-15_76.jpeg\n",
            "Downloaded ../content/sample_data/jet_fighters/F-15/F-15_77.jpeg\n",
            "Downloaded ../content/sample_data/jet_fighters/F-15/F-15_78.jpeg\n",
            "Downloaded ../content/sample_data/jet_fighters/F-15/F-15_79.jpeg\n",
            "Failed to download https://paffalcons.com/wp-content/uploads/2022/03/US-to-sell-F-15-Fighter-Jets-to-Egypt.jpg: HTTPSConnectionPool(host='paffalcons.com', port=443): Read timed out. (read timeout=5)\n",
            "Downloaded ../content/sample_data/jet_fighters/F-15/F-15_82.jpeg\n",
            "Downloaded ../content/sample_data/jet_fighters/F-15/F-15_84.jpeg\n",
            "Downloaded ../content/sample_data/jet_fighters/F-15/F-15_85.jpeg\n",
            "Downloaded ../content/sample_data/jet_fighters/F-15/F-15_86.jpeg\n",
            "Downloaded ../content/sample_data/jet_fighters/F-15/F-15_87.jpeg\n",
            "Downloaded ../content/sample_data/jet_fighters/F-15/F-15_88.jpeg\n",
            "Downloaded ../content/sample_data/jet_fighters/F-15/F-15_89.jpeg\n",
            "Downloaded ../content/sample_data/jet_fighters/F-15/F-15_90.jpeg\n",
            "Downloaded ../content/sample_data/jet_fighters/F-15/F-15_91.jpeg\n",
            "Downloaded ../content/sample_data/jet_fighters/F-15/F-15_93.webp\n",
            "Downloaded ../content/sample_data/jet_fighters/F-15/F-15_94.jpeg\n",
            "Downloaded ../content/sample_data/jet_fighters/F-15/F-15_96.jpeg\n",
            "Downloaded ../content/sample_data/jet_fighters/F-15/F-15_97.jpeg\n",
            "Downloaded ../content/sample_data/jet_fighters/F-15/F-15_98.jpeg\n",
            "Downloaded ../content/sample_data/jet_fighters/F-15/F-15_99.jpeg\n",
            "Downloading images for: F-22 fighter\n",
            "Downloaded ../content/sample_data/jet_fighters/F-22/F-22_0.jpeg\n",
            "Downloaded ../content/sample_data/jet_fighters/F-22/F-22_1.jpeg\n",
            "Downloaded ../content/sample_data/jet_fighters/F-22/F-22_2.jpeg\n",
            "Downloaded ../content/sample_data/jet_fighters/F-22/F-22_3.jpeg\n",
            "Downloaded ../content/sample_data/jet_fighters/F-22/F-22_4.jpeg\n",
            "Downloaded ../content/sample_data/jet_fighters/F-22/F-22_8.jpeg\n",
            "Downloaded ../content/sample_data/jet_fighters/F-22/F-22_9.jpeg\n",
            "Downloaded ../content/sample_data/jet_fighters/F-22/F-22_10.jpeg\n",
            "Downloaded ../content/sample_data/jet_fighters/F-22/F-22_11.jpeg\n",
            "Downloaded ../content/sample_data/jet_fighters/F-22/F-22_12.jpeg\n",
            "Downloaded ../content/sample_data/jet_fighters/F-22/F-22_13.jpeg\n",
            "Downloaded ../content/sample_data/jet_fighters/F-22/F-22_14.png\n",
            "Downloaded ../content/sample_data/jet_fighters/F-22/F-22_15.jpeg\n",
            "Downloaded ../content/sample_data/jet_fighters/F-22/F-22_16.jpeg\n",
            "Downloaded ../content/sample_data/jet_fighters/F-22/F-22_17.jpeg\n",
            "Downloaded ../content/sample_data/jet_fighters/F-22/F-22_18.jpeg\n",
            "Downloaded ../content/sample_data/jet_fighters/F-22/F-22_19.jpeg\n",
            "Downloaded ../content/sample_data/jet_fighters/F-22/F-22_20.jpeg\n",
            "Downloaded ../content/sample_data/jet_fighters/F-22/F-22_21.jpeg\n",
            "Downloaded ../content/sample_data/jet_fighters/F-22/F-22_22.jpeg\n",
            "Downloaded ../content/sample_data/jet_fighters/F-22/F-22_23.jpeg\n",
            "Downloaded ../content/sample_data/jet_fighters/F-22/F-22_24.jpeg\n",
            "Downloaded ../content/sample_data/jet_fighters/F-22/F-22_25.jpeg\n",
            "Downloaded ../content/sample_data/jet_fighters/F-22/F-22_26.jpeg\n",
            "Downloaded ../content/sample_data/jet_fighters/F-22/F-22_27.jpeg\n",
            "Downloaded ../content/sample_data/jet_fighters/F-22/F-22_29.jpeg\n",
            "Downloaded ../content/sample_data/jet_fighters/F-22/F-22_30.jpeg\n",
            "Downloaded ../content/sample_data/jet_fighters/F-22/F-22_31.jpeg\n",
            "Downloaded ../content/sample_data/jet_fighters/F-22/F-22_32.jpeg\n",
            "Downloaded ../content/sample_data/jet_fighters/F-22/F-22_34.jpeg\n",
            "Downloaded ../content/sample_data/jet_fighters/F-22/F-22_35.jpeg\n",
            "Downloaded ../content/sample_data/jet_fighters/F-22/F-22_38.jpeg\n",
            "Downloaded ../content/sample_data/jet_fighters/F-22/F-22_40.jpeg\n",
            "Downloaded ../content/sample_data/jet_fighters/F-22/F-22_41.jpeg\n",
            "Downloaded ../content/sample_data/jet_fighters/F-22/F-22_42.jpeg\n",
            "Downloaded ../content/sample_data/jet_fighters/F-22/F-22_43.jpeg\n",
            "Downloaded ../content/sample_data/jet_fighters/F-22/F-22_47.jpeg\n",
            "Downloaded ../content/sample_data/jet_fighters/F-22/F-22_48.jpeg\n",
            "Downloaded ../content/sample_data/jet_fighters/F-22/F-22_50.jpeg\n",
            "Downloaded ../content/sample_data/jet_fighters/F-22/F-22_51.jpeg\n",
            "Downloaded ../content/sample_data/jet_fighters/F-22/F-22_52.jpeg\n",
            "Downloaded ../content/sample_data/jet_fighters/F-22/F-22_53.jpeg\n",
            "Downloaded ../content/sample_data/jet_fighters/F-22/F-22_54.jpeg\n",
            "Downloaded ../content/sample_data/jet_fighters/F-22/F-22_55.jpeg\n",
            "Downloaded ../content/sample_data/jet_fighters/F-22/F-22_56.jpeg\n",
            "Downloaded ../content/sample_data/jet_fighters/F-22/F-22_57.jpeg\n",
            "Downloaded ../content/sample_data/jet_fighters/F-22/F-22_58.jpeg\n",
            "Downloaded ../content/sample_data/jet_fighters/F-22/F-22_60.jpeg\n",
            "Downloaded ../content/sample_data/jet_fighters/F-22/F-22_61.jpeg\n",
            "Downloaded ../content/sample_data/jet_fighters/F-22/F-22_64.jpeg\n",
            "Downloaded ../content/sample_data/jet_fighters/F-22/F-22_65.jpeg\n",
            "Downloaded ../content/sample_data/jet_fighters/F-22/F-22_66.jpeg\n",
            "Downloaded ../content/sample_data/jet_fighters/F-22/F-22_67.jpeg\n",
            "Downloaded ../content/sample_data/jet_fighters/F-22/F-22_69.jpeg\n",
            "Downloaded ../content/sample_data/jet_fighters/F-22/F-22_70.jpeg\n",
            "Downloaded ../content/sample_data/jet_fighters/F-22/F-22_71.jpeg\n",
            "Downloaded ../content/sample_data/jet_fighters/F-22/F-22_72.jpeg\n",
            "Downloaded ../content/sample_data/jet_fighters/F-22/F-22_73.jpeg\n",
            "Downloaded ../content/sample_data/jet_fighters/F-22/F-22_74.jpeg\n",
            "Downloaded ../content/sample_data/jet_fighters/F-22/F-22_77.webp\n",
            "Downloaded ../content/sample_data/jet_fighters/F-22/F-22_78.jpeg\n",
            "Downloaded ../content/sample_data/jet_fighters/F-22/F-22_79.jpeg\n",
            "Downloaded ../content/sample_data/jet_fighters/F-22/F-22_80.jpeg\n",
            "Downloaded ../content/sample_data/jet_fighters/F-22/F-22_81.jpeg\n",
            "Downloaded ../content/sample_data/jet_fighters/F-22/F-22_82.png\n",
            "Downloaded ../content/sample_data/jet_fighters/F-22/F-22_83.jpeg\n",
            "Downloaded ../content/sample_data/jet_fighters/F-22/F-22_85.jpeg\n",
            "Downloaded ../content/sample_data/jet_fighters/F-22/F-22_86.jpeg\n",
            "Downloaded ../content/sample_data/jet_fighters/F-22/F-22_87.jpeg\n",
            "Downloaded ../content/sample_data/jet_fighters/F-22/F-22_88.jpeg\n",
            "Downloaded ../content/sample_data/jet_fighters/F-22/F-22_89.jpeg\n",
            "Downloaded ../content/sample_data/jet_fighters/F-22/F-22_90.jpeg\n",
            "Downloaded ../content/sample_data/jet_fighters/F-22/F-22_91.jpeg\n",
            "Downloaded ../content/sample_data/jet_fighters/F-22/F-22_92.jpeg\n",
            "Downloaded ../content/sample_data/jet_fighters/F-22/F-22_93.jpeg\n",
            "Downloaded ../content/sample_data/jet_fighters/F-22/F-22_94.jpeg\n",
            "Downloaded ../content/sample_data/jet_fighters/F-22/F-22_95.jpeg\n",
            "Downloaded ../content/sample_data/jet_fighters/F-22/F-22_96.jpeg\n",
            "Downloaded ../content/sample_data/jet_fighters/F-22/F-22_97.jpeg\n",
            "Downloaded ../content/sample_data/jet_fighters/F-22/F-22_98.jpeg\n",
            "Downloaded ../content/sample_data/jet_fighters/F-22/F-22_99.jpeg\n"
          ]
        }
      ]
    },
    {
      "cell_type": "code",
      "source": [
        "#labeled files\n",
        "def label_func(x): return x.parent.name\n",
        "dest_path = '../content/sample_data/jet_fighters'\n",
        "def labeled_img(path):\n",
        "  return path.parent.name\n",
        "dls = ImageDataLoaders.from_path_func(\n",
        "    path=dest_path,\n",
        "    fnames=get_image_files(dest_path),\n",
        "    valid_pct=0.2,\n",
        "    seed=42,\n",
        "    label_func=label_func,\n",
        "    item_tfms=Resize(224)\n",
        ")"
      ],
      "metadata": {
        "id": "RSfNFYchXcZN"
      },
      "execution_count": 37,
      "outputs": []
    },
    {
      "cell_type": "code",
      "source": [
        "\n",
        "learn = cnn_learner(dls, resnet34, metrics=error_rate)\n",
        "learn.fine_tune(1)\n"
      ],
      "metadata": {
        "colab": {
          "base_uri": "https://localhost:8080/",
          "height": 214
        },
        "id": "CBURIPLxg8e7",
        "outputId": "4eca1ec6-00e7-4b0d-a3c3-998bf74cf92a"
      },
      "execution_count": 38,
      "outputs": [
        {
          "output_type": "stream",
          "name": "stderr",
          "text": [
            "/usr/local/lib/python3.11/dist-packages/fastai/vision/learner.py:303: UserWarning: `cnn_learner` has been renamed to `vision_learner` -- please update your code\n",
            "  warn(\"`cnn_learner` has been renamed to `vision_learner` -- please update your code\")\n",
            "Downloading: \"https://download.pytorch.org/models/resnet34-b627a593.pth\" to /root/.cache/torch/hub/checkpoints/resnet34-b627a593.pth\n",
            "100%|██████████| 83.3M/83.3M [00:00<00:00, 133MB/s]\n"
          ]
        },
        {
          "output_type": "display_data",
          "data": {
            "text/plain": [
              "<IPython.core.display.HTML object>"
            ],
            "text/html": [
              "\n",
              "<style>\n",
              "    /* Turns off some styling */\n",
              "    progress {\n",
              "        /* gets rid of default border in Firefox and Opera. */\n",
              "        border: none;\n",
              "        /* Needs to be in here for Safari polyfill so background images work as expected. */\n",
              "        background-size: auto;\n",
              "    }\n",
              "    progress:not([value]), progress:not([value])::-webkit-progress-bar {\n",
              "        background: repeating-linear-gradient(45deg, #7e7e7e, #7e7e7e 10px, #5c5c5c 10px, #5c5c5c 20px);\n",
              "    }\n",
              "    .progress-bar-interrupted, .progress-bar-interrupted::-webkit-progress-bar {\n",
              "        background: #F44336;\n",
              "    }\n",
              "</style>\n"
            ]
          },
          "metadata": {}
        },
        {
          "output_type": "display_data",
          "data": {
            "text/plain": [
              "<IPython.core.display.HTML object>"
            ],
            "text/html": [
              "<table border=\"1\" class=\"dataframe\">\n",
              "  <thead>\n",
              "    <tr style=\"text-align: left;\">\n",
              "      <th>epoch</th>\n",
              "      <th>train_loss</th>\n",
              "      <th>valid_loss</th>\n",
              "      <th>error_rate</th>\n",
              "      <th>time</th>\n",
              "    </tr>\n",
              "  </thead>\n",
              "  <tbody>\n",
              "    <tr>\n",
              "      <td>0</td>\n",
              "      <td>2.076942</td>\n",
              "      <td>1.629076</td>\n",
              "      <td>0.500000</td>\n",
              "      <td>01:30</td>\n",
              "    </tr>\n",
              "  </tbody>\n",
              "</table>"
            ]
          },
          "metadata": {}
        },
        {
          "output_type": "display_data",
          "data": {
            "text/plain": [
              "<IPython.core.display.HTML object>"
            ],
            "text/html": [
              "\n",
              "<style>\n",
              "    /* Turns off some styling */\n",
              "    progress {\n",
              "        /* gets rid of default border in Firefox and Opera. */\n",
              "        border: none;\n",
              "        /* Needs to be in here for Safari polyfill so background images work as expected. */\n",
              "        background-size: auto;\n",
              "    }\n",
              "    progress:not([value]), progress:not([value])::-webkit-progress-bar {\n",
              "        background: repeating-linear-gradient(45deg, #7e7e7e, #7e7e7e 10px, #5c5c5c 10px, #5c5c5c 20px);\n",
              "    }\n",
              "    .progress-bar-interrupted, .progress-bar-interrupted::-webkit-progress-bar {\n",
              "        background: #F44336;\n",
              "    }\n",
              "</style>\n"
            ]
          },
          "metadata": {}
        },
        {
          "output_type": "display_data",
          "data": {
            "text/plain": [
              "<IPython.core.display.HTML object>"
            ],
            "text/html": [
              "<table border=\"1\" class=\"dataframe\">\n",
              "  <thead>\n",
              "    <tr style=\"text-align: left;\">\n",
              "      <th>epoch</th>\n",
              "      <th>train_loss</th>\n",
              "      <th>valid_loss</th>\n",
              "      <th>error_rate</th>\n",
              "      <th>time</th>\n",
              "    </tr>\n",
              "  </thead>\n",
              "  <tbody>\n",
              "    <tr>\n",
              "      <td>0</td>\n",
              "      <td>1.295864</td>\n",
              "      <td>1.189544</td>\n",
              "      <td>0.360000</td>\n",
              "      <td>01:48</td>\n",
              "    </tr>\n",
              "  </tbody>\n",
              "</table>"
            ]
          },
          "metadata": {}
        }
      ]
    },
    {
      "cell_type": "code",
      "source": [
        "import fastbook\n",
        "# fastbook.setup_book()\n",
        "from fastbook import *\n"
      ],
      "metadata": {
        "id": "0p9Dctqji4DB"
      },
      "execution_count": 47,
      "outputs": []
    },
    {
      "cell_type": "code",
      "source": [
        "#testing\n",
        "#upload imeges for testing\n",
        "from ipywidgets import FileUpload\n",
        "uploader = widgets.FileUpload()\n",
        "uploader\n",
        "#dls.vocab"
      ],
      "metadata": {
        "colab": {
          "base_uri": "https://localhost:8080/",
          "height": 49,
          "referenced_widgets": [
            "ccc8481f83f94ee3894d744b8d3c6861",
            "95eae291c5e74ffaad8f86951d499465",
            "e9ff7c61c24e4ab39e3c33be9a3bc4f0"
          ]
        },
        "id": "AnIJAWbhh9ZG",
        "outputId": "193b37cd-0518-467c-8cd4-4a1399c982f5"
      },
      "execution_count": 49,
      "outputs": [
        {
          "output_type": "display_data",
          "data": {
            "text/plain": [
              "FileUpload(value={}, description='Upload')"
            ],
            "application/vnd.jupyter.widget-view+json": {
              "version_major": 2,
              "version_minor": 0,
              "model_id": "ccc8481f83f94ee3894d744b8d3c6861"
            }
          },
          "metadata": {}
        }
      ]
    },
    {
      "cell_type": "code",
      "source": [
        "img = PILImage.create(uploader.data[0])\n",
        "prediction,_,probs = learn.predict(img)\n",
        "print(f'Prediction: {prediction}')\n",
        "print(probs)"
      ],
      "metadata": {
        "colab": {
          "base_uri": "https://localhost:8080/",
          "height": 52
        },
        "id": "hlqZJ4F3irrN",
        "outputId": "34623b10-6ed1-4c45-e8f9-c9f6bb224404"
      },
      "execution_count": 54,
      "outputs": [
        {
          "output_type": "display_data",
          "data": {
            "text/plain": [
              "<IPython.core.display.HTML object>"
            ],
            "text/html": [
              "\n",
              "<style>\n",
              "    /* Turns off some styling */\n",
              "    progress {\n",
              "        /* gets rid of default border in Firefox and Opera. */\n",
              "        border: none;\n",
              "        /* Needs to be in here for Safari polyfill so background images work as expected. */\n",
              "        background-size: auto;\n",
              "    }\n",
              "    progress:not([value]), progress:not([value])::-webkit-progress-bar {\n",
              "        background: repeating-linear-gradient(45deg, #7e7e7e, #7e7e7e 10px, #5c5c5c 10px, #5c5c5c 20px);\n",
              "    }\n",
              "    .progress-bar-interrupted, .progress-bar-interrupted::-webkit-progress-bar {\n",
              "        background: #F44336;\n",
              "    }\n",
              "</style>\n"
            ]
          },
          "metadata": {}
        },
        {
          "output_type": "display_data",
          "data": {
            "text/plain": [
              "<IPython.core.display.HTML object>"
            ],
            "text/html": []
          },
          "metadata": {}
        },
        {
          "output_type": "stream",
          "name": "stdout",
          "text": [
            "Prediction: F-22\n",
            "tensor([3.1130e-03, 9.9685e-01, 4.1460e-05])\n"
          ]
        }
      ]
    }
  ]
}